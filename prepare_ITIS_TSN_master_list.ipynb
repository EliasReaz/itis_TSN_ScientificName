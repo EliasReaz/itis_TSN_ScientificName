{
 "cells": [
  {
   "cell_type": "markdown",
   "id": "c58e794a-20a9-4465-927f-1037545f249e",
   "metadata": {},
   "source": [
    "#### last updated June 19 2025"
   ]
  },
  {
   "cell_type": "markdown",
   "id": "79f3304e-e0aa-404f-a7d5-f9049a9ecf69",
   "metadata": {},
   "source": [
    "##### Read `ITIS.sqlite` from https://www.itis.gov/downloads/\n",
    "- The itis.sqlite file is the SQLite database version of the Integrated Taxonomic Information System (ITIS). It contains standardized scientific and common names for plants, animals, fungi, and microbes.\n",
    "\n",
    "| Table Name          | Description                                                               |\r\n",
    "| ------------------- | ------------------------------------------------------------------------- |\r\n",
    "| `taxonomic_units`   | Core table with TSN (Taxonomic Serial Number), scientific name, and rank. |\r\n",
    "| `vernaculars`       | Common names associated with TSNs (e.g., \"walleye\" → TSN 168507).         |\r\n",
    "| `hierarchy`         | Parent-child relationships (e.g., genus to species).                      |\r\n",
    "| `synonym_links`     | Links between valid TSNs and their synonyms.                              |\r\n",
    "| `taxon_authors_lkp` | Authorship info for scientific names.                                     |\r\n",
    "| `kingdoms`          | List of biological kingdoms (e.g., Animalia, Plantae).                    |\r\n",
    "\n",
    "  "
   ]
  },
  {
   "cell_type": "markdown",
   "id": "60f4b04f-a7da-47c7-beb2-07fd61a0a3e6",
   "metadata": {},
   "source": [
    "#### Import libraries"
   ]
  },
  {
   "cell_type": "code",
   "execution_count": 3,
   "id": "33eeec91-c617-495c-9e4a-64dd5ffac489",
   "metadata": {},
   "outputs": [],
   "source": [
    "import pandas as pd\n",
    "\n",
    "import numpy as np\n",
    "import sqlalchemy as sql\n",
    "import pandas as pd\n",
    "import sqlite3\n",
    "pd.set_option(\"display.max_columns\", 100)\n",
    "# pd.set_option(\"display.latex.repr\", False)\n",
    "pd.set_option('display.max_colwidth', 100)\n",
    "\n",
    "import thefuzz\n",
    "from thefuzz import (fuzz, process)"
   ]
  },
  {
   "cell_type": "markdown",
   "id": "5cf073f8-e7f1-49e1-a27b-47a223159112",
   "metadata": {},
   "source": [
    "#### Read the Table names from the database"
   ]
  },
  {
   "cell_type": "code",
   "execution_count": 5,
   "id": "4ef85108-8b9c-4acf-970f-ff30a62cbe3a",
   "metadata": {},
   "outputs": [
    {
     "name": "stdout",
     "output_type": "stream",
     "text": [
      "[('HierarchyToRank',), ('change_comments',), ('change_operations',), ('change_tracks',), ('chg_operation_lkp',), ('comments',), ('experts',), ('geographic_div',), ('hierarchy',), ('jurisdiction',), ('kingdoms',), ('longnames',), ('nodc_ids',), ('other_sources',), ('publications',), ('reference_links',), ('reviews',), ('strippedauthor',), ('synonym_links',), ('taxon_authors_lkp',), ('taxon_unit_types',), ('taxonomic_units',), ('tu_comments_links',), ('vern_ref_links',), ('vernaculars',)]\n"
     ]
    }
   ],
   "source": [
    "# make a connection object to ITIS.sqlite\n",
    "conn = sqlite3.connect(\"ITIS.sqlite\")\n",
    "# Make a cursor to run SQL commands\n",
    "cursor = conn.cursor()                 \n",
    "### SQL to read the Table Names from the database\n",
    "sql_query = \"\"\"SELECT name FROM sqlite_master  \n",
    "  WHERE type='table';\"\"\"\n",
    "cursor.execute(sql_query)\n",
    "## print Table name\n",
    "print(cursor.fetchall())"
   ]
  },
  {
   "cell_type": "markdown",
   "id": "835e965f-53e5-4eea-9265-cc140f844794",
   "metadata": {},
   "source": [
    "#### Read `kingdoms` Table"
   ]
  },
  {
   "cell_type": "code",
   "execution_count": 7,
   "id": "47d3541b-5479-45d0-a220-e84e13f32306",
   "metadata": {},
   "outputs": [],
   "source": [
    "df_kingdoms = pd.read_sql(\"SELECT * FROM kingdoms\", con=conn)"
   ]
  },
  {
   "cell_type": "code",
   "execution_count": 8,
   "id": "7153e2cc-0cbe-4aa1-8324-4aa94479a2da",
   "metadata": {},
   "outputs": [
    {
     "data": {
      "text/html": [
       "<div>\n",
       "<style scoped>\n",
       "    .dataframe tbody tr th:only-of-type {\n",
       "        vertical-align: middle;\n",
       "    }\n",
       "\n",
       "    .dataframe tbody tr th {\n",
       "        vertical-align: top;\n",
       "    }\n",
       "\n",
       "    .dataframe thead th {\n",
       "        text-align: right;\n",
       "    }\n",
       "</style>\n",
       "<table border=\"1\" class=\"dataframe\">\n",
       "  <thead>\n",
       "    <tr style=\"text-align: right;\">\n",
       "      <th></th>\n",
       "      <th>kingdom_id</th>\n",
       "      <th>kingdom_name</th>\n",
       "      <th>update_date</th>\n",
       "    </tr>\n",
       "  </thead>\n",
       "  <tbody>\n",
       "    <tr>\n",
       "      <th>0</th>\n",
       "      <td>1</td>\n",
       "      <td>Bacteria</td>\n",
       "      <td>2014-08-20</td>\n",
       "    </tr>\n",
       "    <tr>\n",
       "      <th>1</th>\n",
       "      <td>2</td>\n",
       "      <td>Protozoa</td>\n",
       "      <td>2004-06-04</td>\n",
       "    </tr>\n",
       "    <tr>\n",
       "      <th>2</th>\n",
       "      <td>3</td>\n",
       "      <td>Plantae</td>\n",
       "      <td>1996-03-26</td>\n",
       "    </tr>\n",
       "    <tr>\n",
       "      <th>3</th>\n",
       "      <td>4</td>\n",
       "      <td>Fungi</td>\n",
       "      <td>1996-03-26</td>\n",
       "    </tr>\n",
       "    <tr>\n",
       "      <th>4</th>\n",
       "      <td>5</td>\n",
       "      <td>Animalia</td>\n",
       "      <td>1996-03-26</td>\n",
       "    </tr>\n",
       "    <tr>\n",
       "      <th>5</th>\n",
       "      <td>6</td>\n",
       "      <td>Chromista</td>\n",
       "      <td>2004-06-04</td>\n",
       "    </tr>\n",
       "    <tr>\n",
       "      <th>6</th>\n",
       "      <td>7</td>\n",
       "      <td>Archaea</td>\n",
       "      <td>2014-08-20</td>\n",
       "    </tr>\n",
       "  </tbody>\n",
       "</table>\n",
       "</div>"
      ],
      "text/plain": [
       "   kingdom_id kingdom_name update_date\n",
       "0           1     Bacteria  2014-08-20\n",
       "1           2     Protozoa  2004-06-04\n",
       "2           3      Plantae  1996-03-26\n",
       "3           4        Fungi  1996-03-26\n",
       "4           5     Animalia  1996-03-26\n",
       "5           6    Chromista  2004-06-04\n",
       "6           7      Archaea  2014-08-20"
      ]
     },
     "execution_count": 8,
     "metadata": {},
     "output_type": "execute_result"
    }
   ],
   "source": [
    "df_kingdoms.head(10)"
   ]
  },
  {
   "cell_type": "code",
   "execution_count": 9,
   "id": "704e548a-aafb-4dbf-95f6-7818bb8f72ae",
   "metadata": {},
   "outputs": [
    {
     "data": {
      "text/plain": [
       "array(['Bacteria', 'Protozoa', 'Plantae', 'Fungi', 'Animalia',\n",
       "       'Chromista', 'Archaea'], dtype=object)"
      ]
     },
     "execution_count": 9,
     "metadata": {},
     "output_type": "execute_result"
    }
   ],
   "source": [
    "df_kingdoms[\"kingdom_name\"].unique()"
   ]
  },
  {
   "cell_type": "markdown",
   "id": "8896ca48-1773-494e-900d-41da3b355013",
   "metadata": {},
   "source": [
    "#### Read Table `taxonomic_units` - has 965,032 rows, 26 cols "
   ]
  },
  {
   "cell_type": "code",
   "execution_count": 11,
   "id": "d97e8464-14eb-47bb-b7df-9a3166d4f83e",
   "metadata": {},
   "outputs": [],
   "source": [
    "df = pd.read_sql(\"SELECT * FROM taxonomic_units\", con=conn)"
   ]
  },
  {
   "cell_type": "code",
   "execution_count": 12,
   "id": "a4e78ccd-eae7-4215-b35b-bd19fdfb8225",
   "metadata": {},
   "outputs": [
    {
     "data": {
      "text/html": [
       "<div>\n",
       "<style scoped>\n",
       "    .dataframe tbody tr th:only-of-type {\n",
       "        vertical-align: middle;\n",
       "    }\n",
       "\n",
       "    .dataframe tbody tr th {\n",
       "        vertical-align: top;\n",
       "    }\n",
       "\n",
       "    .dataframe thead th {\n",
       "        text-align: right;\n",
       "    }\n",
       "</style>\n",
       "<table border=\"1\" class=\"dataframe\">\n",
       "  <thead>\n",
       "    <tr style=\"text-align: right;\">\n",
       "      <th></th>\n",
       "      <th>tsn</th>\n",
       "      <th>unit_ind1</th>\n",
       "      <th>unit_name1</th>\n",
       "      <th>unit_ind2</th>\n",
       "      <th>unit_name2</th>\n",
       "      <th>unit_ind3</th>\n",
       "      <th>unit_name3</th>\n",
       "      <th>unit_ind4</th>\n",
       "      <th>unit_name4</th>\n",
       "      <th>unnamed_taxon_ind</th>\n",
       "      <th>name_usage</th>\n",
       "      <th>unaccept_reason</th>\n",
       "      <th>credibility_rtng</th>\n",
       "      <th>completeness_rtng</th>\n",
       "      <th>currency_rating</th>\n",
       "      <th>phylo_sort_seq</th>\n",
       "      <th>initial_time_stamp</th>\n",
       "      <th>parent_tsn</th>\n",
       "      <th>taxon_author_id</th>\n",
       "      <th>hybrid_author_id</th>\n",
       "      <th>kingdom_id</th>\n",
       "      <th>rank_id</th>\n",
       "      <th>update_date</th>\n",
       "      <th>uncertain_prnt_ind</th>\n",
       "      <th>n_usage</th>\n",
       "      <th>complete_name</th>\n",
       "    </tr>\n",
       "  </thead>\n",
       "  <tbody>\n",
       "    <tr>\n",
       "      <th>0</th>\n",
       "      <td>50</td>\n",
       "      <td>None</td>\n",
       "      <td>Bacteria</td>\n",
       "      <td>None</td>\n",
       "      <td>None</td>\n",
       "      <td>None</td>\n",
       "      <td>None</td>\n",
       "      <td>None</td>\n",
       "      <td>None</td>\n",
       "      <td>None</td>\n",
       "      <td>valid</td>\n",
       "      <td>None</td>\n",
       "      <td>TWG standards met</td>\n",
       "      <td>partial</td>\n",
       "      <td>2012</td>\n",
       "      <td>0</td>\n",
       "      <td>1996-06-13 14:51:08</td>\n",
       "      <td>0.0</td>\n",
       "      <td>184733</td>\n",
       "      <td>0</td>\n",
       "      <td>1</td>\n",
       "      <td>10</td>\n",
       "      <td>2014-08-20</td>\n",
       "      <td>None</td>\n",
       "      <td>valid</td>\n",
       "      <td>Bacteria</td>\n",
       "    </tr>\n",
       "    <tr>\n",
       "      <th>1</th>\n",
       "      <td>51</td>\n",
       "      <td>None</td>\n",
       "      <td>Schizomycetes</td>\n",
       "      <td>None</td>\n",
       "      <td>None</td>\n",
       "      <td>None</td>\n",
       "      <td>None</td>\n",
       "      <td>None</td>\n",
       "      <td>None</td>\n",
       "      <td>None</td>\n",
       "      <td>invalid</td>\n",
       "      <td>unavailable, database artifact</td>\n",
       "      <td>Minimum taxonomic/nomenclature review</td>\n",
       "      <td>unknown</td>\n",
       "      <td>unknown</td>\n",
       "      <td>0</td>\n",
       "      <td>1996-06-13 14:51:08</td>\n",
       "      <td>0.0</td>\n",
       "      <td>0</td>\n",
       "      <td>0</td>\n",
       "      <td>1</td>\n",
       "      <td>60</td>\n",
       "      <td>2015-03-02</td>\n",
       "      <td>No</td>\n",
       "      <td>invalid</td>\n",
       "      <td>Schizomycetes</td>\n",
       "    </tr>\n",
       "    <tr>\n",
       "      <th>2</th>\n",
       "      <td>52</td>\n",
       "      <td>None</td>\n",
       "      <td>Archangiaceae</td>\n",
       "      <td>None</td>\n",
       "      <td>None</td>\n",
       "      <td>None</td>\n",
       "      <td>None</td>\n",
       "      <td>None</td>\n",
       "      <td>None</td>\n",
       "      <td>None</td>\n",
       "      <td>invalid</td>\n",
       "      <td>unavailable, database artifact</td>\n",
       "      <td>Minimum taxonomic/nomenclature review</td>\n",
       "      <td>unknown</td>\n",
       "      <td>unknown</td>\n",
       "      <td>0</td>\n",
       "      <td>1996-06-13 14:51:08</td>\n",
       "      <td>0.0</td>\n",
       "      <td>0</td>\n",
       "      <td>0</td>\n",
       "      <td>1</td>\n",
       "      <td>140</td>\n",
       "      <td>2015-03-02</td>\n",
       "      <td>No</td>\n",
       "      <td>invalid</td>\n",
       "      <td>Archangiaceae</td>\n",
       "    </tr>\n",
       "    <tr>\n",
       "      <th>3</th>\n",
       "      <td>53</td>\n",
       "      <td>None</td>\n",
       "      <td>Pseudomonadales</td>\n",
       "      <td>None</td>\n",
       "      <td>None</td>\n",
       "      <td>None</td>\n",
       "      <td>None</td>\n",
       "      <td>None</td>\n",
       "      <td>None</td>\n",
       "      <td>None</td>\n",
       "      <td>valid</td>\n",
       "      <td>None</td>\n",
       "      <td>TWG standards met</td>\n",
       "      <td>complete</td>\n",
       "      <td>2012</td>\n",
       "      <td>0</td>\n",
       "      <td>1996-06-13 14:51:08</td>\n",
       "      <td>956156.0</td>\n",
       "      <td>184799</td>\n",
       "      <td>0</td>\n",
       "      <td>1</td>\n",
       "      <td>100</td>\n",
       "      <td>2015-03-02</td>\n",
       "      <td>No</td>\n",
       "      <td>valid</td>\n",
       "      <td>Pseudomonadales</td>\n",
       "    </tr>\n",
       "    <tr>\n",
       "      <th>4</th>\n",
       "      <td>54</td>\n",
       "      <td>None</td>\n",
       "      <td>Rhodobacteriineae</td>\n",
       "      <td>None</td>\n",
       "      <td>None</td>\n",
       "      <td>None</td>\n",
       "      <td>None</td>\n",
       "      <td>None</td>\n",
       "      <td>None</td>\n",
       "      <td>None</td>\n",
       "      <td>invalid</td>\n",
       "      <td>unavailable, database artifact</td>\n",
       "      <td>Minimum taxonomic/nomenclature review</td>\n",
       "      <td>unknown</td>\n",
       "      <td>unknown</td>\n",
       "      <td>0</td>\n",
       "      <td>1996-06-13 14:51:08</td>\n",
       "      <td>0.0</td>\n",
       "      <td>0</td>\n",
       "      <td>0</td>\n",
       "      <td>1</td>\n",
       "      <td>110</td>\n",
       "      <td>2015-03-02</td>\n",
       "      <td>No</td>\n",
       "      <td>invalid</td>\n",
       "      <td>Rhodobacteriineae</td>\n",
       "    </tr>\n",
       "  </tbody>\n",
       "</table>\n",
       "</div>"
      ],
      "text/plain": [
       "   tsn unit_ind1         unit_name1 unit_ind2 unit_name2 unit_ind3 unit_name3  \\\n",
       "0   50      None           Bacteria      None       None      None       None   \n",
       "1   51      None      Schizomycetes      None       None      None       None   \n",
       "2   52      None      Archangiaceae      None       None      None       None   \n",
       "3   53      None    Pseudomonadales      None       None      None       None   \n",
       "4   54      None  Rhodobacteriineae      None       None      None       None   \n",
       "\n",
       "  unit_ind4 unit_name4 unnamed_taxon_ind name_usage  \\\n",
       "0      None       None              None      valid   \n",
       "1      None       None              None    invalid   \n",
       "2      None       None              None    invalid   \n",
       "3      None       None              None      valid   \n",
       "4      None       None              None    invalid   \n",
       "\n",
       "                  unaccept_reason                       credibility_rtng  \\\n",
       "0                            None                      TWG standards met   \n",
       "1  unavailable, database artifact  Minimum taxonomic/nomenclature review   \n",
       "2  unavailable, database artifact  Minimum taxonomic/nomenclature review   \n",
       "3                            None                      TWG standards met   \n",
       "4  unavailable, database artifact  Minimum taxonomic/nomenclature review   \n",
       "\n",
       "  completeness_rtng currency_rating  phylo_sort_seq   initial_time_stamp  \\\n",
       "0           partial            2012               0  1996-06-13 14:51:08   \n",
       "1           unknown         unknown               0  1996-06-13 14:51:08   \n",
       "2           unknown         unknown               0  1996-06-13 14:51:08   \n",
       "3          complete            2012               0  1996-06-13 14:51:08   \n",
       "4           unknown         unknown               0  1996-06-13 14:51:08   \n",
       "\n",
       "   parent_tsn  taxon_author_id  hybrid_author_id  kingdom_id  rank_id  \\\n",
       "0         0.0           184733                 0           1       10   \n",
       "1         0.0                0                 0           1       60   \n",
       "2         0.0                0                 0           1      140   \n",
       "3    956156.0           184799                 0           1      100   \n",
       "4         0.0                0                 0           1      110   \n",
       "\n",
       "  update_date uncertain_prnt_ind  n_usage      complete_name  \n",
       "0  2014-08-20               None    valid           Bacteria  \n",
       "1  2015-03-02                 No  invalid      Schizomycetes  \n",
       "2  2015-03-02                 No  invalid      Archangiaceae  \n",
       "3  2015-03-02                 No    valid    Pseudomonadales  \n",
       "4  2015-03-02                 No  invalid  Rhodobacteriineae  "
      ]
     },
     "execution_count": 12,
     "metadata": {},
     "output_type": "execute_result"
    }
   ],
   "source": [
    "df.head()"
   ]
  },
  {
   "cell_type": "code",
   "execution_count": 13,
   "id": "8ec1770c-bb77-4781-8362-60901c3c60f5",
   "metadata": {},
   "outputs": [
    {
     "name": "stdout",
     "output_type": "stream",
     "text": [
      "\n",
      " Shape of table\n",
      "(965032, 26)\n",
      "\n",
      " Column Name\n",
      "Index(['tsn', 'unit_ind1', 'unit_name1', 'unit_ind2', 'unit_name2',\n",
      "       'unit_ind3', 'unit_name3', 'unit_ind4', 'unit_name4',\n",
      "       'unnamed_taxon_ind', 'name_usage', 'unaccept_reason',\n",
      "       'credibility_rtng', 'completeness_rtng', 'currency_rating',\n",
      "       'phylo_sort_seq', 'initial_time_stamp', 'parent_tsn', 'taxon_author_id',\n",
      "       'hybrid_author_id', 'kingdom_id', 'rank_id', 'update_date',\n",
      "       'uncertain_prnt_ind', 'n_usage', 'complete_name'],\n",
      "      dtype='object')\n"
     ]
    }
   ],
   "source": [
    "print(\"\\n Shape of table\")\n",
    "print(df.shape)\n",
    "\n",
    "\n",
    "print(\"\\n Column Name\")\n",
    "print(df.columns)"
   ]
  },
  {
   "cell_type": "code",
   "execution_count": null,
   "id": "6b848cef-345d-44e2-b6b6-a494f99ecf32",
   "metadata": {},
   "outputs": [],
   "source": []
  },
  {
   "cell_type": "code",
   "execution_count": 14,
   "id": "a56e9190-7259-4a0f-b887-7de3bfdd4311",
   "metadata": {},
   "outputs": [],
   "source": [
    "df_completename = df[['tsn', 'complete_name', 'n_usage', 'kingdom_id']]"
   ]
  },
  {
   "cell_type": "code",
   "execution_count": 15,
   "id": "1359437a-ea47-44e0-bc10-7bfc940b6236",
   "metadata": {},
   "outputs": [
    {
     "data": {
      "text/html": [
       "<div>\n",
       "<style scoped>\n",
       "    .dataframe tbody tr th:only-of-type {\n",
       "        vertical-align: middle;\n",
       "    }\n",
       "\n",
       "    .dataframe tbody tr th {\n",
       "        vertical-align: top;\n",
       "    }\n",
       "\n",
       "    .dataframe thead th {\n",
       "        text-align: right;\n",
       "    }\n",
       "</style>\n",
       "<table border=\"1\" class=\"dataframe\">\n",
       "  <thead>\n",
       "    <tr style=\"text-align: right;\">\n",
       "      <th></th>\n",
       "      <th>tsn</th>\n",
       "      <th>complete_name</th>\n",
       "      <th>n_usage</th>\n",
       "      <th>kingdom_id</th>\n",
       "    </tr>\n",
       "  </thead>\n",
       "  <tbody>\n",
       "    <tr>\n",
       "      <th>0</th>\n",
       "      <td>50</td>\n",
       "      <td>Bacteria</td>\n",
       "      <td>valid</td>\n",
       "      <td>1</td>\n",
       "    </tr>\n",
       "    <tr>\n",
       "      <th>1</th>\n",
       "      <td>51</td>\n",
       "      <td>Schizomycetes</td>\n",
       "      <td>invalid</td>\n",
       "      <td>1</td>\n",
       "    </tr>\n",
       "    <tr>\n",
       "      <th>2</th>\n",
       "      <td>52</td>\n",
       "      <td>Archangiaceae</td>\n",
       "      <td>invalid</td>\n",
       "      <td>1</td>\n",
       "    </tr>\n",
       "    <tr>\n",
       "      <th>3</th>\n",
       "      <td>53</td>\n",
       "      <td>Pseudomonadales</td>\n",
       "      <td>valid</td>\n",
       "      <td>1</td>\n",
       "    </tr>\n",
       "    <tr>\n",
       "      <th>4</th>\n",
       "      <td>54</td>\n",
       "      <td>Rhodobacteriineae</td>\n",
       "      <td>invalid</td>\n",
       "      <td>1</td>\n",
       "    </tr>\n",
       "  </tbody>\n",
       "</table>\n",
       "</div>"
      ],
      "text/plain": [
       "   tsn      complete_name  n_usage  kingdom_id\n",
       "0   50           Bacteria    valid           1\n",
       "1   51      Schizomycetes  invalid           1\n",
       "2   52      Archangiaceae  invalid           1\n",
       "3   53    Pseudomonadales    valid           1\n",
       "4   54  Rhodobacteriineae  invalid           1"
      ]
     },
     "execution_count": 15,
     "metadata": {},
     "output_type": "execute_result"
    }
   ],
   "source": [
    "df_completename.head()"
   ]
  },
  {
   "cell_type": "markdown",
   "id": "d5d52ef5-3587-47f6-82c0-83fc1e394661",
   "metadata": {},
   "source": [
    "#### Take only 'Animalia' kingdom_id = 5 and valid n_usage"
   ]
  },
  {
   "cell_type": "code",
   "execution_count": 17,
   "id": "af047d98-ba38-4a5e-8703-90ea4e3db9f6",
   "metadata": {},
   "outputs": [
    {
     "data": {
      "text/plain": [
       "(555024, 4)"
      ]
     },
     "execution_count": 17,
     "metadata": {},
     "output_type": "execute_result"
    }
   ],
   "source": [
    "df_completename_1 = df_completename[(df_completename[\"kingdom_id\"]==5) & \\\n",
    "                                        (df_completename[\"n_usage\"]==\"valid\")]\n",
    "df_completename_1.shape"
   ]
  },
  {
   "cell_type": "code",
   "execution_count": 18,
   "id": "62390a31-1da1-42bd-b7e1-570973e941e3",
   "metadata": {},
   "outputs": [
    {
     "data": {
      "text/html": [
       "<div>\n",
       "<style scoped>\n",
       "    .dataframe tbody tr th:only-of-type {\n",
       "        vertical-align: middle;\n",
       "    }\n",
       "\n",
       "    .dataframe tbody tr th {\n",
       "        vertical-align: top;\n",
       "    }\n",
       "\n",
       "    .dataframe thead th {\n",
       "        text-align: right;\n",
       "    }\n",
       "</style>\n",
       "<table border=\"1\" class=\"dataframe\">\n",
       "  <thead>\n",
       "    <tr style=\"text-align: right;\">\n",
       "      <th></th>\n",
       "      <th>tsn</th>\n",
       "      <th>complete_name</th>\n",
       "      <th>n_usage</th>\n",
       "      <th>kingdom_id</th>\n",
       "    </tr>\n",
       "  </thead>\n",
       "  <tbody>\n",
       "    <tr>\n",
       "      <th>13707</th>\n",
       "      <td>13757</td>\n",
       "      <td>Antilocapra americana peninsularis</td>\n",
       "      <td>valid</td>\n",
       "      <td>5</td>\n",
       "    </tr>\n",
       "    <tr>\n",
       "      <th>18110</th>\n",
       "      <td>18161</td>\n",
       "      <td>Hornera smitti</td>\n",
       "      <td>valid</td>\n",
       "      <td>5</td>\n",
       "    </tr>\n",
       "    <tr>\n",
       "      <th>18111</th>\n",
       "      <td>18162</td>\n",
       "      <td>Hornera falklandica</td>\n",
       "      <td>valid</td>\n",
       "      <td>5</td>\n",
       "    </tr>\n",
       "    <tr>\n",
       "      <th>18112</th>\n",
       "      <td>18163</td>\n",
       "      <td>Hornera antarctica</td>\n",
       "      <td>valid</td>\n",
       "      <td>5</td>\n",
       "    </tr>\n",
       "    <tr>\n",
       "      <th>18113</th>\n",
       "      <td>18164</td>\n",
       "      <td>Hornera americana</td>\n",
       "      <td>valid</td>\n",
       "      <td>5</td>\n",
       "    </tr>\n",
       "  </tbody>\n",
       "</table>\n",
       "</div>"
      ],
      "text/plain": [
       "         tsn                       complete_name n_usage  kingdom_id\n",
       "13707  13757  Antilocapra americana peninsularis   valid           5\n",
       "18110  18161                      Hornera smitti   valid           5\n",
       "18111  18162                 Hornera falklandica   valid           5\n",
       "18112  18163                  Hornera antarctica   valid           5\n",
       "18113  18164                   Hornera americana   valid           5"
      ]
     },
     "execution_count": 18,
     "metadata": {},
     "output_type": "execute_result"
    }
   ],
   "source": [
    "df_completename_1.head()"
   ]
  },
  {
   "cell_type": "markdown",
   "id": "f83aac83-8b6a-451a-bb08-c2b5ea42fd5a",
   "metadata": {},
   "source": [
    "#### In ITIS table `vernaculars` names are common names"
   ]
  },
  {
   "cell_type": "code",
   "execution_count": 20,
   "id": "980c6498-c612-491f-bc48-85d525952f66",
   "metadata": {},
   "outputs": [],
   "source": [
    "df2 = pd.read_sql(\"SELECT * FROM vernaculars\", con=conn)"
   ]
  },
  {
   "cell_type": "code",
   "execution_count": 21,
   "id": "a2ab4c48-c085-4263-ab90-008a81acd9c0",
   "metadata": {},
   "outputs": [
    {
     "data": {
      "text/html": [
       "<div>\n",
       "<style scoped>\n",
       "    .dataframe tbody tr th:only-of-type {\n",
       "        vertical-align: middle;\n",
       "    }\n",
       "\n",
       "    .dataframe tbody tr th {\n",
       "        vertical-align: top;\n",
       "    }\n",
       "\n",
       "    .dataframe thead th {\n",
       "        text-align: right;\n",
       "    }\n",
       "</style>\n",
       "<table border=\"1\" class=\"dataframe\">\n",
       "  <thead>\n",
       "    <tr style=\"text-align: right;\">\n",
       "      <th></th>\n",
       "      <th>tsn</th>\n",
       "      <th>vernacular_name</th>\n",
       "      <th>language</th>\n",
       "      <th>approved_ind</th>\n",
       "      <th>update_date</th>\n",
       "      <th>vern_id</th>\n",
       "    </tr>\n",
       "  </thead>\n",
       "  <tbody>\n",
       "    <tr>\n",
       "      <th>0</th>\n",
       "      <td>50</td>\n",
       "      <td>bactéries</td>\n",
       "      <td>French</td>\n",
       "      <td>N</td>\n",
       "      <td>2015-03-02</td>\n",
       "      <td>159941</td>\n",
       "    </tr>\n",
       "    <tr>\n",
       "      <th>1</th>\n",
       "      <td>50</td>\n",
       "      <td>bacteria</td>\n",
       "      <td>English</td>\n",
       "      <td>N</td>\n",
       "      <td>2015-03-02</td>\n",
       "      <td>159942</td>\n",
       "    </tr>\n",
       "    <tr>\n",
       "      <th>2</th>\n",
       "      <td>50</td>\n",
       "      <td>bacterias</td>\n",
       "      <td>Spanish</td>\n",
       "      <td>N</td>\n",
       "      <td>2015-03-02</td>\n",
       "      <td>159943</td>\n",
       "    </tr>\n",
       "    <tr>\n",
       "      <th>3</th>\n",
       "      <td>50</td>\n",
       "      <td>bactérias</td>\n",
       "      <td>Portuguese</td>\n",
       "      <td>N</td>\n",
       "      <td>2015-03-02</td>\n",
       "      <td>159944</td>\n",
       "    </tr>\n",
       "    <tr>\n",
       "      <th>4</th>\n",
       "      <td>601</td>\n",
       "      <td>cyanophytes</td>\n",
       "      <td>French</td>\n",
       "      <td>N</td>\n",
       "      <td>2003-05-21</td>\n",
       "      <td>85559</td>\n",
       "    </tr>\n",
       "  </tbody>\n",
       "</table>\n",
       "</div>"
      ],
      "text/plain": [
       "   tsn vernacular_name    language approved_ind update_date  vern_id\n",
       "0   50       bactéries      French            N  2015-03-02   159941\n",
       "1   50        bacteria     English            N  2015-03-02   159942\n",
       "2   50       bacterias     Spanish            N  2015-03-02   159943\n",
       "3   50       bactérias  Portuguese            N  2015-03-02   159944\n",
       "4  601     cyanophytes      French            N  2003-05-21    85559"
      ]
     },
     "execution_count": 21,
     "metadata": {},
     "output_type": "execute_result"
    }
   ],
   "source": [
    "df2.head()"
   ]
  },
  {
   "cell_type": "code",
   "execution_count": 22,
   "id": "7aaaa9c5-3fef-4e4b-bb7a-7f50c9d553f6",
   "metadata": {},
   "outputs": [],
   "source": [
    "# df2[df2[\"tsn\"]==161706]"
   ]
  },
  {
   "cell_type": "code",
   "execution_count": 23,
   "id": "9d76d38e-f9ff-487f-95f9-856707ffc82b",
   "metadata": {},
   "outputs": [
    {
     "data": {
      "text/plain": [
       "(152250, 6)"
      ]
     },
     "execution_count": 23,
     "metadata": {},
     "output_type": "execute_result"
    }
   ],
   "source": [
    "df2.shape"
   ]
  },
  {
   "cell_type": "markdown",
   "id": "483d9974-392c-4c6b-af31-ef83a280a34c",
   "metadata": {},
   "source": [
    "#### Common names are in many different languages"
   ]
  },
  {
   "cell_type": "code",
   "execution_count": 25,
   "id": "50c6537c-15e1-4c65-ab1d-f4df4dd50d6f",
   "metadata": {},
   "outputs": [
    {
     "data": {
      "text/plain": [
       "array(['French', 'English', 'Spanish', 'Portuguese', 'unspecified',\n",
       "       'Hawaiian', 'Afrikaans', 'German', 'Native American', 'Finnish',\n",
       "       'Swedish', 'Danish', 'Fijan', 'Italian', 'Japanese', 'Khmer',\n",
       "       'Arabic', 'Icelandic', 'Iglulik Inuit', 'Chinese', 'Hindi',\n",
       "       'Estonian', 'Turkish', 'Dutch', 'Norwegian', 'Indonesian',\n",
       "       'Manyika', 'Ndau', 'Shona', 'Hausa', 'Greek', 'Djuka', 'Galibi',\n",
       "       'Lao', 'Javanese', 'Korean', 'Czech', 'Hungarian', 'eng',\n",
       "       'Australian', 'Northern Sotho', 'Swati', 'Xhosa', 'Zulu',\n",
       "       'Malagasy', 'Bengali', 'Romanian', 'Unspecified', 'Fijian',\n",
       "       'Slovak', 'Croatian'], dtype=object)"
      ]
     },
     "execution_count": 25,
     "metadata": {},
     "output_type": "execute_result"
    }
   ],
   "source": [
    "df2[\"language\"].unique()"
   ]
  },
  {
   "cell_type": "code",
   "execution_count": 26,
   "id": "361a5da9-bcf9-42c1-9c6b-7446528b180b",
   "metadata": {},
   "outputs": [
    {
     "data": {
      "text/plain": [
       "(115313, 6)"
      ]
     },
     "execution_count": 26,
     "metadata": {},
     "output_type": "execute_result"
    }
   ],
   "source": [
    "df2 = df2[df2[\"language\"]==\"English\"]\n",
    "df2.shape"
   ]
  },
  {
   "cell_type": "markdown",
   "id": "dc6ae127-75c0-452e-99b9-bed71e4122a8",
   "metadata": {},
   "source": [
    "#### merge: inner join on tsn column"
   ]
  },
  {
   "cell_type": "code",
   "execution_count": 28,
   "id": "78398526-b2c3-41ec-aecc-bee4be013007",
   "metadata": {},
   "outputs": [],
   "source": [
    "df_merge = pd.merge(df_completename_1, df2[[\"tsn\", \"vernacular_name\", \"language\"]], on=\"tsn\", how=\"inner\")"
   ]
  },
  {
   "cell_type": "code",
   "execution_count": 29,
   "id": "ec3f6faf-7cb6-488b-b7fa-cf853a53d49f",
   "metadata": {},
   "outputs": [
    {
     "data": {
      "text/plain": [
       "(59299, 6)"
      ]
     },
     "execution_count": 29,
     "metadata": {},
     "output_type": "execute_result"
    }
   ],
   "source": [
    "df_merge.shape"
   ]
  },
  {
   "cell_type": "code",
   "execution_count": 30,
   "id": "25e77e74-d992-42a8-a19d-3089c9ad01d3",
   "metadata": {},
   "outputs": [
    {
     "data": {
      "text/html": [
       "<div>\n",
       "<style scoped>\n",
       "    .dataframe tbody tr th:only-of-type {\n",
       "        vertical-align: middle;\n",
       "    }\n",
       "\n",
       "    .dataframe tbody tr th {\n",
       "        vertical-align: top;\n",
       "    }\n",
       "\n",
       "    .dataframe thead th {\n",
       "        text-align: right;\n",
       "    }\n",
       "</style>\n",
       "<table border=\"1\" class=\"dataframe\">\n",
       "  <thead>\n",
       "    <tr style=\"text-align: right;\">\n",
       "      <th></th>\n",
       "      <th>tsn</th>\n",
       "      <th>complete_name</th>\n",
       "      <th>n_usage</th>\n",
       "      <th>kingdom_id</th>\n",
       "      <th>vernacular_name</th>\n",
       "      <th>language</th>\n",
       "    </tr>\n",
       "  </thead>\n",
       "  <tbody>\n",
       "    <tr>\n",
       "      <th>0</th>\n",
       "      <td>13757</td>\n",
       "      <td>Antilocapra americana peninsularis</td>\n",
       "      <td>valid</td>\n",
       "      <td>5</td>\n",
       "      <td>peninsular pronghorn</td>\n",
       "      <td>English</td>\n",
       "    </tr>\n",
       "    <tr>\n",
       "      <th>1</th>\n",
       "      <td>46861</td>\n",
       "      <td>Porifera</td>\n",
       "      <td>valid</td>\n",
       "      <td>5</td>\n",
       "      <td>sponges</td>\n",
       "      <td>English</td>\n",
       "    </tr>\n",
       "    <tr>\n",
       "      <th>2</th>\n",
       "      <td>47618</td>\n",
       "      <td>Hippospongia lachne</td>\n",
       "      <td>valid</td>\n",
       "      <td>5</td>\n",
       "      <td>sheepswool sponge</td>\n",
       "      <td>English</td>\n",
       "    </tr>\n",
       "    <tr>\n",
       "      <th>3</th>\n",
       "      <td>48738</td>\n",
       "      <td>Cnidaria</td>\n",
       "      <td>valid</td>\n",
       "      <td>5</td>\n",
       "      <td>cnidarians</td>\n",
       "      <td>English</td>\n",
       "    </tr>\n",
       "    <tr>\n",
       "      <th>4</th>\n",
       "      <td>48738</td>\n",
       "      <td>Cnidaria</td>\n",
       "      <td>valid</td>\n",
       "      <td>5</td>\n",
       "      <td>coelenterates</td>\n",
       "      <td>English</td>\n",
       "    </tr>\n",
       "  </tbody>\n",
       "</table>\n",
       "</div>"
      ],
      "text/plain": [
       "     tsn                       complete_name n_usage  kingdom_id  \\\n",
       "0  13757  Antilocapra americana peninsularis   valid           5   \n",
       "1  46861                            Porifera   valid           5   \n",
       "2  47618                 Hippospongia lachne   valid           5   \n",
       "3  48738                            Cnidaria   valid           5   \n",
       "4  48738                            Cnidaria   valid           5   \n",
       "\n",
       "        vernacular_name language  \n",
       "0  peninsular pronghorn  English  \n",
       "1               sponges  English  \n",
       "2     sheepswool sponge  English  \n",
       "3            cnidarians  English  \n",
       "4         coelenterates  English  "
      ]
     },
     "execution_count": 30,
     "metadata": {},
     "output_type": "execute_result"
    }
   ],
   "source": [
    "df_merge.head()"
   ]
  },
  {
   "cell_type": "markdown",
   "id": "cf2e882f-6f7e-4e35-809c-186d1524086f",
   "metadata": {},
   "source": [
    "#### Take only valid name"
   ]
  },
  {
   "cell_type": "code",
   "execution_count": 32,
   "id": "9277ed48-a844-42dd-afdb-c5dfae30d987",
   "metadata": {},
   "outputs": [
    {
     "name": "stdout",
     "output_type": "stream",
     "text": [
      "<class 'pandas.core.frame.DataFrame'>\n",
      "Int64Index: 59299 entries, 0 to 59298\n",
      "Data columns (total 6 columns):\n",
      " #   Column           Non-Null Count  Dtype \n",
      "---  ------           --------------  ----- \n",
      " 0   tsn              59299 non-null  int64 \n",
      " 1   complete_name    59299 non-null  object\n",
      " 2   n_usage          59299 non-null  object\n",
      " 3   kingdom_id       59299 non-null  int64 \n",
      " 4   vernacular_name  59299 non-null  object\n",
      " 5   language         59299 non-null  object\n",
      "dtypes: int64(2), object(4)\n",
      "memory usage: 3.2+ MB\n"
     ]
    }
   ],
   "source": [
    "df_merge.info()"
   ]
  },
  {
   "cell_type": "code",
   "execution_count": 33,
   "id": "7e58fe0d-ab47-4407-a247-34d4f6e5ee78",
   "metadata": {},
   "outputs": [],
   "source": [
    "df_itis_tsn = df_merge[(df_merge[\"n_usage\"] == \"valid\")]"
   ]
  },
  {
   "cell_type": "markdown",
   "id": "99f38192-3747-452a-9fa5-3ed637a29a5e",
   "metadata": {},
   "source": [
    "### number of rows reduces to 59,299 (valid rows) from 152,250"
   ]
  },
  {
   "cell_type": "code",
   "execution_count": 35,
   "id": "bb6181c1-922b-42f1-9d81-54972da0d3b6",
   "metadata": {},
   "outputs": [
    {
     "data": {
      "text/plain": [
       "(59299, 6)"
      ]
     },
     "execution_count": 35,
     "metadata": {},
     "output_type": "execute_result"
    }
   ],
   "source": [
    "df_itis_tsn.shape"
   ]
  },
  {
   "cell_type": "markdown",
   "id": "cce36131-251b-412e-9d12-f38a2a309b26",
   "metadata": {},
   "source": [
    "#### change column name `complete_name` to `scientific_name` and `vernacular_name` to `common_name`"
   ]
  },
  {
   "cell_type": "code",
   "execution_count": 37,
   "id": "3dd9d995-6281-4267-bac6-2336849b2430",
   "metadata": {},
   "outputs": [
    {
     "data": {
      "text/html": [
       "<div>\n",
       "<style scoped>\n",
       "    .dataframe tbody tr th:only-of-type {\n",
       "        vertical-align: middle;\n",
       "    }\n",
       "\n",
       "    .dataframe tbody tr th {\n",
       "        vertical-align: top;\n",
       "    }\n",
       "\n",
       "    .dataframe thead th {\n",
       "        text-align: right;\n",
       "    }\n",
       "</style>\n",
       "<table border=\"1\" class=\"dataframe\">\n",
       "  <thead>\n",
       "    <tr style=\"text-align: right;\">\n",
       "      <th></th>\n",
       "      <th>tsn</th>\n",
       "      <th>scientific_name</th>\n",
       "      <th>n_usage</th>\n",
       "      <th>kingdom_id</th>\n",
       "      <th>common_name</th>\n",
       "      <th>language</th>\n",
       "    </tr>\n",
       "  </thead>\n",
       "  <tbody>\n",
       "    <tr>\n",
       "      <th>0</th>\n",
       "      <td>13757</td>\n",
       "      <td>Antilocapra americana peninsularis</td>\n",
       "      <td>valid</td>\n",
       "      <td>5</td>\n",
       "      <td>peninsular pronghorn</td>\n",
       "      <td>English</td>\n",
       "    </tr>\n",
       "    <tr>\n",
       "      <th>1</th>\n",
       "      <td>46861</td>\n",
       "      <td>Porifera</td>\n",
       "      <td>valid</td>\n",
       "      <td>5</td>\n",
       "      <td>sponges</td>\n",
       "      <td>English</td>\n",
       "    </tr>\n",
       "    <tr>\n",
       "      <th>2</th>\n",
       "      <td>47618</td>\n",
       "      <td>Hippospongia lachne</td>\n",
       "      <td>valid</td>\n",
       "      <td>5</td>\n",
       "      <td>sheepswool sponge</td>\n",
       "      <td>English</td>\n",
       "    </tr>\n",
       "  </tbody>\n",
       "</table>\n",
       "</div>"
      ],
      "text/plain": [
       "     tsn                     scientific_name n_usage  kingdom_id  \\\n",
       "0  13757  Antilocapra americana peninsularis   valid           5   \n",
       "1  46861                            Porifera   valid           5   \n",
       "2  47618                 Hippospongia lachne   valid           5   \n",
       "\n",
       "            common_name language  \n",
       "0  peninsular pronghorn  English  \n",
       "1               sponges  English  \n",
       "2     sheepswool sponge  English  "
      ]
     },
     "execution_count": 37,
     "metadata": {},
     "output_type": "execute_result"
    }
   ],
   "source": [
    "df_itis_tsn = df_itis_tsn.rename(columns={'complete_name':'scientific_name', \n",
    "                            'vernacular_name':'common_name'})\n",
    "df_itis_tsn.head(3)"
   ]
  },
  {
   "cell_type": "code",
   "execution_count": 38,
   "id": "5708fdcc-a91d-45f6-b344-1ca658607d43",
   "metadata": {},
   "outputs": [],
   "source": [
    "df_itis_tsn['scientific_name'] = df_itis_tsn['scientific_name'].str.strip().str.capitalize()\n",
    "df_itis_tsn['common_name'] = df_itis_tsn['common_name'].str.strip().str.capitalize()"
   ]
  },
  {
   "cell_type": "markdown",
   "id": "a97675e8-41f5-4f19-9653-acbdb5da17ef",
   "metadata": {},
   "source": [
    "#### The same (tsn & scientific name) has multiple common names"
   ]
  },
  {
   "cell_type": "code",
   "execution_count": 40,
   "id": "3f534810-1872-4d3c-80fd-8a7047410a4d",
   "metadata": {},
   "outputs": [
    {
     "data": {
      "text/html": [
       "<div>\n",
       "<style scoped>\n",
       "    .dataframe tbody tr th:only-of-type {\n",
       "        vertical-align: middle;\n",
       "    }\n",
       "\n",
       "    .dataframe tbody tr th {\n",
       "        vertical-align: top;\n",
       "    }\n",
       "\n",
       "    .dataframe thead th {\n",
       "        text-align: right;\n",
       "    }\n",
       "</style>\n",
       "<table border=\"1\" class=\"dataframe\">\n",
       "  <thead>\n",
       "    <tr style=\"text-align: right;\">\n",
       "      <th></th>\n",
       "      <th>tsn</th>\n",
       "      <th>scientific_name</th>\n",
       "      <th>n_usage</th>\n",
       "      <th>kingdom_id</th>\n",
       "      <th>common_name</th>\n",
       "      <th>language</th>\n",
       "    </tr>\n",
       "  </thead>\n",
       "  <tbody>\n",
       "    <tr>\n",
       "      <th>8459</th>\n",
       "      <td>161706</td>\n",
       "      <td>Alosa pseudoharengus</td>\n",
       "      <td>valid</td>\n",
       "      <td>5</td>\n",
       "      <td>Alewife</td>\n",
       "      <td>English</td>\n",
       "    </tr>\n",
       "    <tr>\n",
       "      <th>8460</th>\n",
       "      <td>161706</td>\n",
       "      <td>Alosa pseudoharengus</td>\n",
       "      <td>valid</td>\n",
       "      <td>5</td>\n",
       "      <td>Kyak</td>\n",
       "      <td>English</td>\n",
       "    </tr>\n",
       "    <tr>\n",
       "      <th>8461</th>\n",
       "      <td>161706</td>\n",
       "      <td>Alosa pseudoharengus</td>\n",
       "      <td>valid</td>\n",
       "      <td>5</td>\n",
       "      <td>Bigeye herring</td>\n",
       "      <td>English</td>\n",
       "    </tr>\n",
       "    <tr>\n",
       "      <th>8462</th>\n",
       "      <td>161706</td>\n",
       "      <td>Alosa pseudoharengus</td>\n",
       "      <td>valid</td>\n",
       "      <td>5</td>\n",
       "      <td>Branch herring</td>\n",
       "      <td>English</td>\n",
       "    </tr>\n",
       "    <tr>\n",
       "      <th>8463</th>\n",
       "      <td>161706</td>\n",
       "      <td>Alosa pseudoharengus</td>\n",
       "      <td>valid</td>\n",
       "      <td>5</td>\n",
       "      <td>Freshwater herring</td>\n",
       "      <td>English</td>\n",
       "    </tr>\n",
       "    <tr>\n",
       "      <th>8464</th>\n",
       "      <td>161706</td>\n",
       "      <td>Alosa pseudoharengus</td>\n",
       "      <td>valid</td>\n",
       "      <td>5</td>\n",
       "      <td>Gray herring</td>\n",
       "      <td>English</td>\n",
       "    </tr>\n",
       "    <tr>\n",
       "      <th>8465</th>\n",
       "      <td>161706</td>\n",
       "      <td>Alosa pseudoharengus</td>\n",
       "      <td>valid</td>\n",
       "      <td>5</td>\n",
       "      <td>White herring</td>\n",
       "      <td>English</td>\n",
       "    </tr>\n",
       "    <tr>\n",
       "      <th>8466</th>\n",
       "      <td>161706</td>\n",
       "      <td>Alosa pseudoharengus</td>\n",
       "      <td>valid</td>\n",
       "      <td>5</td>\n",
       "      <td>Sawbelly</td>\n",
       "      <td>English</td>\n",
       "    </tr>\n",
       "    <tr>\n",
       "      <th>8467</th>\n",
       "      <td>161706</td>\n",
       "      <td>Alosa pseudoharengus</td>\n",
       "      <td>valid</td>\n",
       "      <td>5</td>\n",
       "      <td>Grayback</td>\n",
       "      <td>English</td>\n",
       "    </tr>\n",
       "  </tbody>\n",
       "</table>\n",
       "</div>"
      ],
      "text/plain": [
       "         tsn       scientific_name n_usage  kingdom_id         common_name  \\\n",
       "8459  161706  Alosa pseudoharengus   valid           5             Alewife   \n",
       "8460  161706  Alosa pseudoharengus   valid           5                Kyak   \n",
       "8461  161706  Alosa pseudoharengus   valid           5      Bigeye herring   \n",
       "8462  161706  Alosa pseudoharengus   valid           5      Branch herring   \n",
       "8463  161706  Alosa pseudoharengus   valid           5  Freshwater herring   \n",
       "8464  161706  Alosa pseudoharengus   valid           5        Gray herring   \n",
       "8465  161706  Alosa pseudoharengus   valid           5       White herring   \n",
       "8466  161706  Alosa pseudoharengus   valid           5            Sawbelly   \n",
       "8467  161706  Alosa pseudoharengus   valid           5            Grayback   \n",
       "\n",
       "     language  \n",
       "8459  English  \n",
       "8460  English  \n",
       "8461  English  \n",
       "8462  English  \n",
       "8463  English  \n",
       "8464  English  \n",
       "8465  English  \n",
       "8466  English  \n",
       "8467  English  "
      ]
     },
     "execution_count": 40,
     "metadata": {},
     "output_type": "execute_result"
    }
   ],
   "source": [
    "df_itis_tsn[df_itis_tsn[\"tsn\"]==161706]"
   ]
  },
  {
   "cell_type": "code",
   "execution_count": 41,
   "id": "0bbf0661-9f00-4e3b-ad91-8d1b102b2346",
   "metadata": {},
   "outputs": [
    {
     "data": {
      "text/plain": [
       "47839"
      ]
     },
     "execution_count": 41,
     "metadata": {},
     "output_type": "execute_result"
    }
   ],
   "source": [
    "df_itis_tsn[\"tsn\"].nunique()"
   ]
  },
  {
   "cell_type": "code",
   "execution_count": 42,
   "id": "951d48cd-a195-416c-bd9a-91ff657ebe8a",
   "metadata": {},
   "outputs": [
    {
     "data": {
      "text/plain": [
       "(47839, 6)"
      ]
     },
     "execution_count": 42,
     "metadata": {},
     "output_type": "execute_result"
    }
   ],
   "source": [
    "df_unique_tsn_scientific_name = df_itis_tsn.drop_duplicates(subset=[\"tsn\"])\n",
    "df_unique_tsn_scientific_name.shape"
   ]
  },
  {
   "cell_type": "code",
   "execution_count": 43,
   "id": "47043dee-e0ca-456f-9fb2-2805cee127c0",
   "metadata": {},
   "outputs": [],
   "source": [
    "## as_index=False prevents the grouped columns from becoming the index\n",
    "tsn_grpby = df_itis_tsn.groupby([\"tsn\"], as_index=False).agg({\"common_name\": '/ '.join})"
   ]
  },
  {
   "cell_type": "code",
   "execution_count": 44,
   "id": "31460470-1374-40db-9ce1-f9c5a0091405",
   "metadata": {},
   "outputs": [
    {
     "data": {
      "text/html": [
       "<div>\n",
       "<style scoped>\n",
       "    .dataframe tbody tr th:only-of-type {\n",
       "        vertical-align: middle;\n",
       "    }\n",
       "\n",
       "    .dataframe tbody tr th {\n",
       "        vertical-align: top;\n",
       "    }\n",
       "\n",
       "    .dataframe thead th {\n",
       "        text-align: right;\n",
       "    }\n",
       "</style>\n",
       "<table border=\"1\" class=\"dataframe\">\n",
       "  <thead>\n",
       "    <tr style=\"text-align: right;\">\n",
       "      <th></th>\n",
       "      <th>tsn</th>\n",
       "      <th>common_name</th>\n",
       "    </tr>\n",
       "  </thead>\n",
       "  <tbody>\n",
       "    <tr>\n",
       "      <th>0</th>\n",
       "      <td>13757</td>\n",
       "      <td>Peninsular pronghorn</td>\n",
       "    </tr>\n",
       "    <tr>\n",
       "      <th>1</th>\n",
       "      <td>46861</td>\n",
       "      <td>Sponges</td>\n",
       "    </tr>\n",
       "    <tr>\n",
       "      <th>2</th>\n",
       "      <td>47618</td>\n",
       "      <td>Sheepswool sponge</td>\n",
       "    </tr>\n",
       "    <tr>\n",
       "      <th>3</th>\n",
       "      <td>48738</td>\n",
       "      <td>Cnidarians/ Coelenterates</td>\n",
       "    </tr>\n",
       "    <tr>\n",
       "      <th>4</th>\n",
       "      <td>48739</td>\n",
       "      <td>Hydralike animals/ Hydroids/ Hydrozoans</td>\n",
       "    </tr>\n",
       "  </tbody>\n",
       "</table>\n",
       "</div>"
      ],
      "text/plain": [
       "     tsn                              common_name\n",
       "0  13757                     Peninsular pronghorn\n",
       "1  46861                                  Sponges\n",
       "2  47618                        Sheepswool sponge\n",
       "3  48738                Cnidarians/ Coelenterates\n",
       "4  48739  Hydralike animals/ Hydroids/ Hydrozoans"
      ]
     },
     "execution_count": 44,
     "metadata": {},
     "output_type": "execute_result"
    }
   ],
   "source": [
    "tsn_grpby.head()"
   ]
  },
  {
   "cell_type": "code",
   "execution_count": 45,
   "id": "9a3274bc-8b2a-4c05-813b-30c8f41a89f6",
   "metadata": {},
   "outputs": [
    {
     "data": {
      "text/html": [
       "<div>\n",
       "<style scoped>\n",
       "    .dataframe tbody tr th:only-of-type {\n",
       "        vertical-align: middle;\n",
       "    }\n",
       "\n",
       "    .dataframe tbody tr th {\n",
       "        vertical-align: top;\n",
       "    }\n",
       "\n",
       "    .dataframe thead th {\n",
       "        text-align: right;\n",
       "    }\n",
       "</style>\n",
       "<table border=\"1\" class=\"dataframe\">\n",
       "  <thead>\n",
       "    <tr style=\"text-align: right;\">\n",
       "      <th></th>\n",
       "      <th>common_name</th>\n",
       "    </tr>\n",
       "    <tr>\n",
       "      <th>tsn</th>\n",
       "      <th></th>\n",
       "    </tr>\n",
       "  </thead>\n",
       "  <tbody>\n",
       "    <tr>\n",
       "      <th>13757</th>\n",
       "      <td>Peninsular pronghorn</td>\n",
       "    </tr>\n",
       "    <tr>\n",
       "      <th>46861</th>\n",
       "      <td>Sponges</td>\n",
       "    </tr>\n",
       "    <tr>\n",
       "      <th>47618</th>\n",
       "      <td>Sheepswool sponge</td>\n",
       "    </tr>\n",
       "    <tr>\n",
       "      <th>48738</th>\n",
       "      <td>Cnidarians/ Coelenterates</td>\n",
       "    </tr>\n",
       "    <tr>\n",
       "      <th>48739</th>\n",
       "      <td>Hydralike animals/ Hydroids/ Hydrozoans</td>\n",
       "    </tr>\n",
       "    <tr>\n",
       "      <th>48821</th>\n",
       "      <td>Orange hydroid</td>\n",
       "    </tr>\n",
       "    <tr>\n",
       "      <th>48891</th>\n",
       "      <td>Club hydroid</td>\n",
       "    </tr>\n",
       "  </tbody>\n",
       "</table>\n",
       "</div>"
      ],
      "text/plain": [
       "                                   common_name\n",
       "tsn                                           \n",
       "13757                     Peninsular pronghorn\n",
       "46861                                  Sponges\n",
       "47618                        Sheepswool sponge\n",
       "48738                Cnidarians/ Coelenterates\n",
       "48739  Hydralike animals/ Hydroids/ Hydrozoans\n",
       "48821                           Orange hydroid\n",
       "48891                             Club hydroid"
      ]
     },
     "execution_count": 45,
     "metadata": {},
     "output_type": "execute_result"
    }
   ],
   "source": [
    "tsn_grpby_df = tsn_grpby.set_index(\"tsn\")\n",
    "tsn_grpby_df.head(7)"
   ]
  },
  {
   "cell_type": "code",
   "execution_count": 46,
   "id": "fc4ba0dd-71fe-450d-ae7d-447a7df8fd97",
   "metadata": {},
   "outputs": [],
   "source": [
    "tsn_grpby_dict1 = tsn_grpby_df.to_dict()"
   ]
  },
  {
   "cell_type": "code",
   "execution_count": 47,
   "id": "d97df682-993e-4fca-80c1-17a020ef78df",
   "metadata": {},
   "outputs": [],
   "source": [
    "tsn_grpby_dict1 = tsn_grpby_dict1[\"common_name\"]  "
   ]
  },
  {
   "cell_type": "code",
   "execution_count": 48,
   "id": "0b9cf1ac-fa78-4eb8-9c13-c8737ec7acc3",
   "metadata": {},
   "outputs": [],
   "source": [
    "# tsn_grpby_dict1"
   ]
  },
  {
   "cell_type": "code",
   "execution_count": 49,
   "id": "25d5fb56-4872-4f70-b072-ec0ce7d416be",
   "metadata": {},
   "outputs": [
    {
     "name": "stderr",
     "output_type": "stream",
     "text": [
      "C:\\Users\\elias\\AppData\\Local\\Temp\\ipykernel_16368\\3141572712.py:1: SettingWithCopyWarning: \n",
      "A value is trying to be set on a copy of a slice from a DataFrame.\n",
      "Try using .loc[row_indexer,col_indexer] = value instead\n",
      "\n",
      "See the caveats in the documentation: https://pandas.pydata.org/pandas-docs/stable/user_guide/indexing.html#returning-a-view-versus-a-copy\n",
      "  df_unique_tsn_scientific_name[\"common_name\"] = \\\n"
     ]
    }
   ],
   "source": [
    "df_unique_tsn_scientific_name[\"common_name\"] = \\\n",
    "        df_unique_tsn_scientific_name[\"tsn\"].map(tsn_grpby_dict1) "
   ]
  },
  {
   "cell_type": "code",
   "execution_count": 50,
   "id": "60d9b1e6-5be9-4a2b-ab3f-12a7066cb4a4",
   "metadata": {},
   "outputs": [
    {
     "data": {
      "text/html": [
       "<div>\n",
       "<style scoped>\n",
       "    .dataframe tbody tr th:only-of-type {\n",
       "        vertical-align: middle;\n",
       "    }\n",
       "\n",
       "    .dataframe tbody tr th {\n",
       "        vertical-align: top;\n",
       "    }\n",
       "\n",
       "    .dataframe thead th {\n",
       "        text-align: right;\n",
       "    }\n",
       "</style>\n",
       "<table border=\"1\" class=\"dataframe\">\n",
       "  <thead>\n",
       "    <tr style=\"text-align: right;\">\n",
       "      <th></th>\n",
       "      <th>tsn</th>\n",
       "      <th>scientific_name</th>\n",
       "      <th>n_usage</th>\n",
       "      <th>kingdom_id</th>\n",
       "      <th>common_name</th>\n",
       "      <th>language</th>\n",
       "    </tr>\n",
       "  </thead>\n",
       "  <tbody>\n",
       "    <tr>\n",
       "      <th>0</th>\n",
       "      <td>13757</td>\n",
       "      <td>Antilocapra americana peninsularis</td>\n",
       "      <td>valid</td>\n",
       "      <td>5</td>\n",
       "      <td>Peninsular pronghorn</td>\n",
       "      <td>English</td>\n",
       "    </tr>\n",
       "    <tr>\n",
       "      <th>1</th>\n",
       "      <td>46861</td>\n",
       "      <td>Porifera</td>\n",
       "      <td>valid</td>\n",
       "      <td>5</td>\n",
       "      <td>Sponges</td>\n",
       "      <td>English</td>\n",
       "    </tr>\n",
       "    <tr>\n",
       "      <th>2</th>\n",
       "      <td>47618</td>\n",
       "      <td>Hippospongia lachne</td>\n",
       "      <td>valid</td>\n",
       "      <td>5</td>\n",
       "      <td>Sheepswool sponge</td>\n",
       "      <td>English</td>\n",
       "    </tr>\n",
       "    <tr>\n",
       "      <th>3</th>\n",
       "      <td>48738</td>\n",
       "      <td>Cnidaria</td>\n",
       "      <td>valid</td>\n",
       "      <td>5</td>\n",
       "      <td>Cnidarians/ Coelenterates</td>\n",
       "      <td>English</td>\n",
       "    </tr>\n",
       "    <tr>\n",
       "      <th>5</th>\n",
       "      <td>48739</td>\n",
       "      <td>Hydrozoa</td>\n",
       "      <td>valid</td>\n",
       "      <td>5</td>\n",
       "      <td>Hydralike animals/ Hydroids/ Hydrozoans</td>\n",
       "      <td>English</td>\n",
       "    </tr>\n",
       "  </tbody>\n",
       "</table>\n",
       "</div>"
      ],
      "text/plain": [
       "     tsn                     scientific_name n_usage  kingdom_id  \\\n",
       "0  13757  Antilocapra americana peninsularis   valid           5   \n",
       "1  46861                            Porifera   valid           5   \n",
       "2  47618                 Hippospongia lachne   valid           5   \n",
       "3  48738                            Cnidaria   valid           5   \n",
       "5  48739                            Hydrozoa   valid           5   \n",
       "\n",
       "                               common_name language  \n",
       "0                     Peninsular pronghorn  English  \n",
       "1                                  Sponges  English  \n",
       "2                        Sheepswool sponge  English  \n",
       "3                Cnidarians/ Coelenterates  English  \n",
       "5  Hydralike animals/ Hydroids/ Hydrozoans  English  "
      ]
     },
     "execution_count": 50,
     "metadata": {},
     "output_type": "execute_result"
    }
   ],
   "source": [
    "df_unique_tsn_scientific_name.head()"
   ]
  },
  {
   "cell_type": "code",
   "execution_count": 51,
   "id": "96cfac97-cc1d-4420-b4a9-269e2f1b2f84",
   "metadata": {},
   "outputs": [
    {
     "data": {
      "text/html": [
       "<div>\n",
       "<style scoped>\n",
       "    .dataframe tbody tr th:only-of-type {\n",
       "        vertical-align: middle;\n",
       "    }\n",
       "\n",
       "    .dataframe tbody tr th {\n",
       "        vertical-align: top;\n",
       "    }\n",
       "\n",
       "    .dataframe thead th {\n",
       "        text-align: right;\n",
       "    }\n",
       "</style>\n",
       "<table border=\"1\" class=\"dataframe\">\n",
       "  <thead>\n",
       "    <tr style=\"text-align: right;\">\n",
       "      <th></th>\n",
       "      <th>tsn</th>\n",
       "      <th>scientific_name</th>\n",
       "      <th>n_usage</th>\n",
       "      <th>kingdom_id</th>\n",
       "      <th>common_name</th>\n",
       "      <th>language</th>\n",
       "    </tr>\n",
       "  </thead>\n",
       "  <tbody>\n",
       "    <tr>\n",
       "      <th>8443</th>\n",
       "      <td>161701</td>\n",
       "      <td>Alosa</td>\n",
       "      <td>valid</td>\n",
       "      <td>5</td>\n",
       "      <td>River herrings</td>\n",
       "      <td>English</td>\n",
       "    </tr>\n",
       "    <tr>\n",
       "      <th>8444</th>\n",
       "      <td>161702</td>\n",
       "      <td>Alosa sapidissima</td>\n",
       "      <td>valid</td>\n",
       "      <td>5</td>\n",
       "      <td>American shad/ Atlantic shad/ Common shad/ White shad</td>\n",
       "      <td>English</td>\n",
       "    </tr>\n",
       "    <tr>\n",
       "      <th>8448</th>\n",
       "      <td>161703</td>\n",
       "      <td>Alosa aestivalis</td>\n",
       "      <td>valid</td>\n",
       "      <td>5</td>\n",
       "      <td>Blueback herring/ Blueback shad</td>\n",
       "      <td>English</td>\n",
       "    </tr>\n",
       "    <tr>\n",
       "      <th>8450</th>\n",
       "      <td>161704</td>\n",
       "      <td>Alosa mediocris</td>\n",
       "      <td>valid</td>\n",
       "      <td>5</td>\n",
       "      <td>Hickory shad/ Hickory jack/ Shad herring/ Freshwater taylor/ Fall herring/ Bonejack</td>\n",
       "      <td>English</td>\n",
       "    </tr>\n",
       "    <tr>\n",
       "      <th>8456</th>\n",
       "      <td>161705</td>\n",
       "      <td>Alosa alabamae</td>\n",
       "      <td>valid</td>\n",
       "      <td>5</td>\n",
       "      <td>Alabama shad/ Gulf shad/ Ohio shad</td>\n",
       "      <td>English</td>\n",
       "    </tr>\n",
       "    <tr>\n",
       "      <th>8459</th>\n",
       "      <td>161706</td>\n",
       "      <td>Alosa pseudoharengus</td>\n",
       "      <td>valid</td>\n",
       "      <td>5</td>\n",
       "      <td>Alewife/ Kyak/ Bigeye herring/ Branch herring/ Freshwater herring/ Gray herring/ White herring/ ...</td>\n",
       "      <td>English</td>\n",
       "    </tr>\n",
       "    <tr>\n",
       "      <th>8468</th>\n",
       "      <td>161707</td>\n",
       "      <td>Alosa chrysochloris</td>\n",
       "      <td>valid</td>\n",
       "      <td>5</td>\n",
       "      <td>Skipjack herring/ Skipjack shad/ Blue herring/ Green herring/ Golden shad/ River herring/ Skipjack</td>\n",
       "      <td>English</td>\n",
       "    </tr>\n",
       "    <tr>\n",
       "      <th>8475</th>\n",
       "      <td>161708</td>\n",
       "      <td>Alosa alosa</td>\n",
       "      <td>valid</td>\n",
       "      <td>5</td>\n",
       "      <td>Alice shad/ Allis shad</td>\n",
       "      <td>English</td>\n",
       "    </tr>\n",
       "    <tr>\n",
       "      <th>8477</th>\n",
       "      <td>161710</td>\n",
       "      <td>Alosa caspia</td>\n",
       "      <td>valid</td>\n",
       "      <td>5</td>\n",
       "      <td>Caspian shad</td>\n",
       "      <td>English</td>\n",
       "    </tr>\n",
       "    <tr>\n",
       "      <th>8478</th>\n",
       "      <td>161712</td>\n",
       "      <td>Alosa caspia nordmanni</td>\n",
       "      <td>valid</td>\n",
       "      <td>5</td>\n",
       "      <td>Danube shad</td>\n",
       "      <td>English</td>\n",
       "    </tr>\n",
       "    <tr>\n",
       "      <th>8479</th>\n",
       "      <td>161719</td>\n",
       "      <td>Alosa pontica</td>\n",
       "      <td>valid</td>\n",
       "      <td>5</td>\n",
       "      <td>Pontic shad</td>\n",
       "      <td>English</td>\n",
       "    </tr>\n",
       "    <tr>\n",
       "      <th>22968</th>\n",
       "      <td>551288</td>\n",
       "      <td>Alosa kessleri</td>\n",
       "      <td>valid</td>\n",
       "      <td>5</td>\n",
       "      <td>Caspian anadromous shad</td>\n",
       "      <td>English</td>\n",
       "    </tr>\n",
       "    <tr>\n",
       "      <th>22969</th>\n",
       "      <td>551289</td>\n",
       "      <td>Alosa maeotica</td>\n",
       "      <td>valid</td>\n",
       "      <td>5</td>\n",
       "      <td>Black sea shad</td>\n",
       "      <td>English</td>\n",
       "    </tr>\n",
       "    <tr>\n",
       "      <th>22970</th>\n",
       "      <td>551291</td>\n",
       "      <td>Alosa sphaerocephala</td>\n",
       "      <td>valid</td>\n",
       "      <td>5</td>\n",
       "      <td>Agrakhan shad</td>\n",
       "      <td>English</td>\n",
       "    </tr>\n",
       "    <tr>\n",
       "      <th>31753</th>\n",
       "      <td>572643</td>\n",
       "      <td>Alosa tanaica</td>\n",
       "      <td>valid</td>\n",
       "      <td>5</td>\n",
       "      <td>Azov shad</td>\n",
       "      <td>English</td>\n",
       "    </tr>\n",
       "    <tr>\n",
       "      <th>34027</th>\n",
       "      <td>615815</td>\n",
       "      <td>Alosa braschnikowi</td>\n",
       "      <td>valid</td>\n",
       "      <td>5</td>\n",
       "      <td>Caspian marine shad</td>\n",
       "      <td>English</td>\n",
       "    </tr>\n",
       "    <tr>\n",
       "      <th>34028</th>\n",
       "      <td>615816</td>\n",
       "      <td>Alosa saposchnikowii</td>\n",
       "      <td>valid</td>\n",
       "      <td>5</td>\n",
       "      <td>Saposhnikovi shad</td>\n",
       "      <td>English</td>\n",
       "    </tr>\n",
       "  </tbody>\n",
       "</table>\n",
       "</div>"
      ],
      "text/plain": [
       "          tsn         scientific_name n_usage  kingdom_id  \\\n",
       "8443   161701                   Alosa   valid           5   \n",
       "8444   161702       Alosa sapidissima   valid           5   \n",
       "8448   161703        Alosa aestivalis   valid           5   \n",
       "8450   161704         Alosa mediocris   valid           5   \n",
       "8456   161705          Alosa alabamae   valid           5   \n",
       "8459   161706    Alosa pseudoharengus   valid           5   \n",
       "8468   161707     Alosa chrysochloris   valid           5   \n",
       "8475   161708             Alosa alosa   valid           5   \n",
       "8477   161710            Alosa caspia   valid           5   \n",
       "8478   161712  Alosa caspia nordmanni   valid           5   \n",
       "8479   161719           Alosa pontica   valid           5   \n",
       "22968  551288          Alosa kessleri   valid           5   \n",
       "22969  551289          Alosa maeotica   valid           5   \n",
       "22970  551291    Alosa sphaerocephala   valid           5   \n",
       "31753  572643           Alosa tanaica   valid           5   \n",
       "34027  615815      Alosa braschnikowi   valid           5   \n",
       "34028  615816    Alosa saposchnikowii   valid           5   \n",
       "\n",
       "                                                                                               common_name  \\\n",
       "8443                                                                                        River herrings   \n",
       "8444                                                 American shad/ Atlantic shad/ Common shad/ White shad   \n",
       "8448                                                                       Blueback herring/ Blueback shad   \n",
       "8450                   Hickory shad/ Hickory jack/ Shad herring/ Freshwater taylor/ Fall herring/ Bonejack   \n",
       "8456                                                                    Alabama shad/ Gulf shad/ Ohio shad   \n",
       "8459   Alewife/ Kyak/ Bigeye herring/ Branch herring/ Freshwater herring/ Gray herring/ White herring/ ...   \n",
       "8468    Skipjack herring/ Skipjack shad/ Blue herring/ Green herring/ Golden shad/ River herring/ Skipjack   \n",
       "8475                                                                                Alice shad/ Allis shad   \n",
       "8477                                                                                          Caspian shad   \n",
       "8478                                                                                           Danube shad   \n",
       "8479                                                                                           Pontic shad   \n",
       "22968                                                                              Caspian anadromous shad   \n",
       "22969                                                                                       Black sea shad   \n",
       "22970                                                                                        Agrakhan shad   \n",
       "31753                                                                                            Azov shad   \n",
       "34027                                                                                  Caspian marine shad   \n",
       "34028                                                                                    Saposhnikovi shad   \n",
       "\n",
       "      language  \n",
       "8443   English  \n",
       "8444   English  \n",
       "8448   English  \n",
       "8450   English  \n",
       "8456   English  \n",
       "8459   English  \n",
       "8468   English  \n",
       "8475   English  \n",
       "8477   English  \n",
       "8478   English  \n",
       "8479   English  \n",
       "22968  English  \n",
       "22969  English  \n",
       "22970  English  \n",
       "31753  English  \n",
       "34027  English  \n",
       "34028  English  "
      ]
     },
     "execution_count": 51,
     "metadata": {},
     "output_type": "execute_result"
    }
   ],
   "source": [
    "df_unique_tsn_scientific_name[df_unique_tsn_scientific_name[\"scientific_name\"].str.contains(\"Alosa\")]"
   ]
  },
  {
   "cell_type": "markdown",
   "id": "4737306a-c5c5-4e47-a54a-b32280952b5b",
   "metadata": {},
   "source": [
    "#### There are 47,839 valid unique tsn number with English common name"
   ]
  },
  {
   "cell_type": "code",
   "execution_count": 53,
   "id": "84cd5df0-7e5e-4308-bcf1-218e990cfb27",
   "metadata": {},
   "outputs": [
    {
     "data": {
      "text/plain": [
       "47839"
      ]
     },
     "execution_count": 53,
     "metadata": {},
     "output_type": "execute_result"
    }
   ],
   "source": [
    "df_unique_tsn_scientific_name.tsn.nunique()"
   ]
  },
  {
   "cell_type": "markdown",
   "id": "9aa128d3-72e6-4820-801c-6835489d8c69",
   "metadata": {},
   "source": [
    "#### Some test query"
   ]
  },
  {
   "cell_type": "code",
   "execution_count": 55,
   "id": "89b85265-c2b9-475d-a6c0-d563b0a932a5",
   "metadata": {},
   "outputs": [
    {
     "data": {
      "text/html": [
       "<div>\n",
       "<style scoped>\n",
       "    .dataframe tbody tr th:only-of-type {\n",
       "        vertical-align: middle;\n",
       "    }\n",
       "\n",
       "    .dataframe tbody tr th {\n",
       "        vertical-align: top;\n",
       "    }\n",
       "\n",
       "    .dataframe thead th {\n",
       "        text-align: right;\n",
       "    }\n",
       "</style>\n",
       "<table border=\"1\" class=\"dataframe\">\n",
       "  <thead>\n",
       "    <tr style=\"text-align: right;\">\n",
       "      <th></th>\n",
       "      <th>tsn</th>\n",
       "      <th>scientific_name</th>\n",
       "      <th>n_usage</th>\n",
       "      <th>kingdom_id</th>\n",
       "      <th>common_name</th>\n",
       "      <th>language</th>\n",
       "    </tr>\n",
       "  </thead>\n",
       "  <tbody>\n",
       "    <tr>\n",
       "      <th>24175</th>\n",
       "      <td>553273</td>\n",
       "      <td>Catostomus commersonii</td>\n",
       "      <td>valid</td>\n",
       "      <td>5</td>\n",
       "      <td>White sucker</td>\n",
       "      <td>English</td>\n",
       "    </tr>\n",
       "  </tbody>\n",
       "</table>\n",
       "</div>"
      ],
      "text/plain": [
       "          tsn         scientific_name n_usage  kingdom_id   common_name  \\\n",
       "24175  553273  Catostomus commersonii   valid           5  White sucker   \n",
       "\n",
       "      language  \n",
       "24175  English  "
      ]
     },
     "execution_count": 55,
     "metadata": {},
     "output_type": "execute_result"
    }
   ],
   "source": [
    "df_unique_tsn_scientific_name[df_unique_tsn_scientific_name[\"scientific_name\"]==\"Catostomus commersonii\"]"
   ]
  },
  {
   "cell_type": "code",
   "execution_count": 56,
   "id": "6c7912b0-f55a-4803-97a0-d8cb5aa345fc",
   "metadata": {},
   "outputs": [
    {
     "data": {
      "text/html": [
       "<div>\n",
       "<style scoped>\n",
       "    .dataframe tbody tr th:only-of-type {\n",
       "        vertical-align: middle;\n",
       "    }\n",
       "\n",
       "    .dataframe tbody tr th {\n",
       "        vertical-align: top;\n",
       "    }\n",
       "\n",
       "    .dataframe thead th {\n",
       "        text-align: right;\n",
       "    }\n",
       "</style>\n",
       "<table border=\"1\" class=\"dataframe\">\n",
       "  <thead>\n",
       "    <tr style=\"text-align: right;\">\n",
       "      <th></th>\n",
       "      <th>tsn</th>\n",
       "      <th>scientific_name</th>\n",
       "      <th>n_usage</th>\n",
       "      <th>kingdom_id</th>\n",
       "      <th>common_name</th>\n",
       "      <th>language</th>\n",
       "    </tr>\n",
       "  </thead>\n",
       "  <tbody>\n",
       "    <tr>\n",
       "      <th>8459</th>\n",
       "      <td>161706</td>\n",
       "      <td>Alosa pseudoharengus</td>\n",
       "      <td>valid</td>\n",
       "      <td>5</td>\n",
       "      <td>Alewife/ Kyak/ Bigeye herring/ Branch herring/ Freshwater herring/ Gray herring/ White herring/ ...</td>\n",
       "      <td>English</td>\n",
       "    </tr>\n",
       "  </tbody>\n",
       "</table>\n",
       "</div>"
      ],
      "text/plain": [
       "         tsn       scientific_name n_usage  kingdom_id  \\\n",
       "8459  161706  Alosa pseudoharengus   valid           5   \n",
       "\n",
       "                                                                                              common_name  \\\n",
       "8459  Alewife/ Kyak/ Bigeye herring/ Branch herring/ Freshwater herring/ Gray herring/ White herring/ ...   \n",
       "\n",
       "     language  \n",
       "8459  English  "
      ]
     },
     "execution_count": 56,
     "metadata": {},
     "output_type": "execute_result"
    }
   ],
   "source": [
    "df_unique_tsn_scientific_name[df_unique_tsn_scientific_name[\"tsn\"]==161706]"
   ]
  },
  {
   "cell_type": "code",
   "execution_count": 57,
   "id": "c0915578-cbcd-4d46-9cc5-1cf417ec0cc5",
   "metadata": {},
   "outputs": [
    {
     "name": "stdout",
     "output_type": "stream",
     "text": [
      "<class 'pandas.core.frame.DataFrame'>\n",
      "Int64Index: 47839 entries, 0 to 59298\n",
      "Data columns (total 6 columns):\n",
      " #   Column           Non-Null Count  Dtype \n",
      "---  ------           --------------  ----- \n",
      " 0   tsn              47839 non-null  int64 \n",
      " 1   scientific_name  47839 non-null  object\n",
      " 2   n_usage          47839 non-null  object\n",
      " 3   kingdom_id       47839 non-null  int64 \n",
      " 4   common_name      47839 non-null  object\n",
      " 5   language         47839 non-null  object\n",
      "dtypes: int64(2), object(4)\n",
      "memory usage: 2.6+ MB\n"
     ]
    }
   ],
   "source": [
    "df_unique_tsn_scientific_name.info()"
   ]
  },
  {
   "cell_type": "code",
   "execution_count": null,
   "id": "6a8ca2d1-45f8-4cfb-9f91-88b414e06e04",
   "metadata": {},
   "outputs": [],
   "source": []
  },
  {
   "cell_type": "code",
   "execution_count": 58,
   "id": "8e346e19-4d6b-4829-8242-91fd0e87b077",
   "metadata": {},
   "outputs": [],
   "source": [
    "df_itis_tsn = df_unique_tsn_scientific_name[[\"tsn\", \"scientific_name\", \"common_name\"]]"
   ]
  },
  {
   "cell_type": "code",
   "execution_count": 59,
   "id": "80b12586-bf19-4fd5-a412-2ab3dad1145f",
   "metadata": {},
   "outputs": [
    {
     "data": {
      "text/html": [
       "<div>\n",
       "<style scoped>\n",
       "    .dataframe tbody tr th:only-of-type {\n",
       "        vertical-align: middle;\n",
       "    }\n",
       "\n",
       "    .dataframe tbody tr th {\n",
       "        vertical-align: top;\n",
       "    }\n",
       "\n",
       "    .dataframe thead th {\n",
       "        text-align: right;\n",
       "    }\n",
       "</style>\n",
       "<table border=\"1\" class=\"dataframe\">\n",
       "  <thead>\n",
       "    <tr style=\"text-align: right;\">\n",
       "      <th></th>\n",
       "      <th>tsn</th>\n",
       "      <th>scientific_name</th>\n",
       "      <th>common_name</th>\n",
       "    </tr>\n",
       "  </thead>\n",
       "  <tbody>\n",
       "    <tr>\n",
       "      <th>0</th>\n",
       "      <td>13757</td>\n",
       "      <td>Antilocapra americana peninsularis</td>\n",
       "      <td>Peninsular pronghorn</td>\n",
       "    </tr>\n",
       "    <tr>\n",
       "      <th>1</th>\n",
       "      <td>46861</td>\n",
       "      <td>Porifera</td>\n",
       "      <td>Sponges</td>\n",
       "    </tr>\n",
       "    <tr>\n",
       "      <th>2</th>\n",
       "      <td>47618</td>\n",
       "      <td>Hippospongia lachne</td>\n",
       "      <td>Sheepswool sponge</td>\n",
       "    </tr>\n",
       "    <tr>\n",
       "      <th>3</th>\n",
       "      <td>48738</td>\n",
       "      <td>Cnidaria</td>\n",
       "      <td>Cnidarians/ Coelenterates</td>\n",
       "    </tr>\n",
       "    <tr>\n",
       "      <th>5</th>\n",
       "      <td>48739</td>\n",
       "      <td>Hydrozoa</td>\n",
       "      <td>Hydralike animals/ Hydroids/ Hydrozoans</td>\n",
       "    </tr>\n",
       "  </tbody>\n",
       "</table>\n",
       "</div>"
      ],
      "text/plain": [
       "     tsn                     scientific_name  \\\n",
       "0  13757  Antilocapra americana peninsularis   \n",
       "1  46861                            Porifera   \n",
       "2  47618                 Hippospongia lachne   \n",
       "3  48738                            Cnidaria   \n",
       "5  48739                            Hydrozoa   \n",
       "\n",
       "                               common_name  \n",
       "0                     Peninsular pronghorn  \n",
       "1                                  Sponges  \n",
       "2                        Sheepswool sponge  \n",
       "3                Cnidarians/ Coelenterates  \n",
       "5  Hydralike animals/ Hydroids/ Hydrozoans  "
      ]
     },
     "execution_count": 59,
     "metadata": {},
     "output_type": "execute_result"
    }
   ],
   "source": [
    "df_itis_tsn.head()"
   ]
  },
  {
   "cell_type": "markdown",
   "id": "ff2f0dab-2517-44bb-8f3c-0df693c0f6ca",
   "metadata": {},
   "source": [
    "#### save the original TSN data"
   ]
  },
  {
   "cell_type": "code",
   "execution_count": 61,
   "id": "9ea1ed4c-efdd-4dea-9963-35884792e896",
   "metadata": {},
   "outputs": [],
   "source": [
    "# import pickle\n",
    "# filename = 'TSN.pkl'\n",
    "# with open(filename, 'wb') as file:\n",
    "#     pickle.dump(df_itis_tsn, file)"
   ]
  },
  {
   "cell_type": "markdown",
   "id": "36db4fd2-0a3c-4b3e-8284-944c212bbbba",
   "metadata": {},
   "source": [
    "#### Can be saved as `parquet` file format, which is simpler to read/write in pandas"
   ]
  },
  {
   "cell_type": "code",
   "execution_count": 63,
   "id": "18df7ae3-52a3-4ade-b9d5-e9746823370a",
   "metadata": {},
   "outputs": [],
   "source": [
    "df_itis_tsn.to_parquet(\"itis_tsn.parquet\", index=False)\n",
    "# read_df = pd.read_parquet(\"itis_tsn.parquet\")\n"
   ]
  },
  {
   "cell_type": "code",
   "execution_count": 64,
   "id": "f2d657ba-1874-4130-82c4-db75b1823924",
   "metadata": {},
   "outputs": [],
   "source": [
    "# read_df = pd.read_parquet(\"itis_tsn.parquet\")"
   ]
  },
  {
   "cell_type": "code",
   "execution_count": 65,
   "id": "e049d38d-6d4c-4dc8-9cd6-ea1146aba9c8",
   "metadata": {},
   "outputs": [],
   "source": [
    "# with open(filename, 'rb') as file:\n",
    "#     original_tsn_df =pickle.load(file)\n",
    "# print(original_tsn_df.shape)\n",
    "# print(type(original_tsn_df))\n",
    "# print(original_tsn_df.head())"
   ]
  }
 ],
 "metadata": {
  "kernelspec": {
   "display_name": "Python 3 (ipykernel)",
   "language": "python",
   "name": "python3"
  },
  "language_info": {
   "codemirror_mode": {
    "name": "ipython",
    "version": 3
   },
   "file_extension": ".py",
   "mimetype": "text/x-python",
   "name": "python",
   "nbconvert_exporter": "python",
   "pygments_lexer": "ipython3",
   "version": "3.11.7"
  }
 },
 "nbformat": 4,
 "nbformat_minor": 5
}
